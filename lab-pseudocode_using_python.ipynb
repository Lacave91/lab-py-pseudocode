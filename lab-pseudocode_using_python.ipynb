{
 "cells": [
  {
   "cell_type": "markdown",
   "metadata": {},
   "source": [
    "# LAB | Pseudocode Using Python\n",
    "\n",
    "## Overview\n",
    "\n",
    "This exercise will help you practice writing pseudocode and translating it into Python code. Pseudocode is a way to describe algorithms in a human-readable format, which can then be implemented in programming languages.\n",
    "\n"
   ]
  },
  {
   "cell_type": "markdown",
   "metadata": {},
   "source": [
    "### Exercise 1: Multiply Two Numbers\n",
    "\n",
    "Write a pseudocode to read two numbers and multiply them together. Then, write the equivalent Python code."
   ]
  },
  {
   "cell_type": "markdown",
   "metadata": {},
   "source": [
    "<!-- Add your pseudocode here -->"
   ]
  },
  {
   "cell_type": "code",
   "execution_count": null,
   "metadata": {},
   "outputs": [
    {
     "name": "stdout",
     "output_type": "stream",
     "text": [
      "12\n"
     ]
    }
   ],
   "source": [
    "# call the numbers\n",
    "# multiply numbers\n",
    "# print the result\n",
    "\n",
    "number_1 = 3\n",
    "number_2 = 4\n",
    "\n",
    "result = number_1 * number_2\n",
    "\n",
    "print(result)"
   ]
  },
  {
   "cell_type": "markdown",
   "metadata": {},
   "source": [
    "### Exercise 2: Check Even or Odd\n",
    "\n",
    "Write pseudocode that checks if a number is even or odd and prints the result. Then, write the equivalent Python code."
   ]
  },
  {
   "cell_type": "markdown",
   "metadata": {},
   "source": [
    "<!-- Add your pseudocode here -->"
   ]
  },
  {
   "cell_type": "code",
   "execution_count": 10,
   "metadata": {},
   "outputs": [
    {
     "name": "stdout",
     "output_type": "stream",
     "text": [
      "4 is even\n"
     ]
    }
   ],
   "source": [
    "# call the number\n",
    "# check if the number is divided by 2\n",
    "# if its true print one result\n",
    "# if its something else print other result\n",
    "\n",
    "x = 4\n",
    "\n",
    "if x % 2 == 0:\n",
    "    print(f\"{x} is even\")\n",
    "else:\n",
    "    print(f\"{x} is odd\")"
   ]
  },
  {
   "cell_type": "markdown",
   "metadata": {},
   "source": [
    "### Exercise 3: Sum of First N Natural Numbers\n",
    "\n",
    "Write pseudocode to calculate the sum of the first N natural numbers. Then, write the equivalent Python code."
   ]
  },
  {
   "cell_type": "markdown",
   "metadata": {},
   "source": [
    "<!-- Add your pseudocode here -->"
   ]
  },
  {
   "cell_type": "code",
   "execution_count": 14,
   "metadata": {},
   "outputs": [
    {
     "name": "stdout",
     "output_type": "stream",
     "text": [
      "The sum of the first 4 natural numbers is: 10\n"
     ]
    }
   ],
   "source": [
    "# call the value of N as input (N)\n",
    "#Initialize a variable sum to 0 \n",
    "#For each number from 1 to N:\n",
    "#Add the current number to sum\n",
    "#Print the value of sum\n",
    "\n",
    "N = int(input(\"Enter a number: \"))\n",
    "\n",
    "sum = 0\n",
    "\n",
    "for i in range(1, N + 1):\n",
    "    sum += i\n",
    "\n",
    "print(f\"The sum of the first {N} natural numbers is: {sum}\")\n"
   ]
  },
  {
   "cell_type": "markdown",
   "metadata": {},
   "source": [
    "### Exercise 4: Find Maximum of Three Numbers\n",
    "\n",
    "Write pseudocode that finds the maximum of three numbers entered by the user. Then, write the equivalent Python code."
   ]
  },
  {
   "cell_type": "markdown",
   "metadata": {},
   "source": [
    "<!-- Add your pseudocode here -->"
   ]
  },
  {
   "cell_type": "code",
   "execution_count": 15,
   "metadata": {},
   "outputs": [
    {
     "name": "stdout",
     "output_type": "stream",
     "text": [
      "The maximum number is: 7.0\n"
     ]
    }
   ],
   "source": [
    "# Read three different numbers\n",
    "# compare the numbers:\n",
    "  # if num1 is greater than or equal to both num2 and num3, then num1 is the maximum\n",
    "  # if num2 is greater than or equal to both num2 and num3, then num2 is the maximum\n",
    "# else: num3 is the maximum\n",
    "#print the maximum\n",
    "\n",
    "num1 = float(input(\"Enter the first number: \"))\n",
    "num2 = float(input(\"Enter the second number: \"))\n",
    "num3 = float(input(\"Enter the third number: \"))\n",
    "\n",
    "if num1 >= num2 and num1 >= num3:\n",
    "    maximum = num1\n",
    "elif num2 >= num1 and num2 >= num3:\n",
    "    maximum = num2\n",
    "else:\n",
    "    maximum = num3\n",
    "\n",
    "print(f\"The maximum number is: {maximum}\")\n"
   ]
  },
  {
   "cell_type": "markdown",
   "metadata": {},
   "source": [
    "### Exercise 5: Count Vowels in a String\n",
    "\n",
    "Write pseudocode to count the number of vowels in a given string and print the count. Then, write the equivalent Python code."
   ]
  },
  {
   "cell_type": "markdown",
   "metadata": {},
   "source": [
    "<!-- Add your pseudocode here -->"
   ]
  },
  {
   "cell_type": "code",
   "execution_count": 16,
   "metadata": {},
   "outputs": [
    {
     "name": "stdout",
     "output_type": "stream",
     "text": [
      "The number of vowels in the string is: 2\n"
     ]
    }
   ],
   "source": [
    "# read the input (text)\n",
    "# Initialize a variable vowel_count to 0\n",
    "# For each character in the string text:\n",
    "     #If the character is a vowel (a, e, i, o, u or their uppercase versions), increment vowel_count by 1\n",
    "#Print the value of vowel_count \n",
    "\n",
    "\n",
    "text = input(\"Enter a string: \")\n",
    "\n",
    "vowel_count = 0\n",
    "\n",
    "for char in text:\n",
    "\n",
    "    if char.lower() in \"aeiou\":\n",
    "        vowel_count += 1\n",
    "\n",
    "print(f\"The number of vowels in the string is: {vowel_count}\")"
   ]
  },
  {
   "cell_type": "markdown",
   "metadata": {},
   "source": [
    "## Bonus Exercises\n",
    "\n",
    "### Bonus Exercise 6: Reverse a String\n",
    "\n",
    "Write pseudocode to reverse a given string and print it out."
   ]
  },
  {
   "cell_type": "markdown",
   "metadata": {},
   "source": [
    "<!-- Add your pseudocode here -->"
   ]
  },
  {
   "cell_type": "code",
   "execution_count": 17,
   "metadata": {},
   "outputs": [
    {
     "name": "stdout",
     "output_type": "stream",
     "text": [
      "The reversed string is: dlrowolleh\n"
     ]
    }
   ],
   "source": [
    "#Read the input string (let's call it text)\n",
    "#Reverse the string (e.g., by using string slicing or any reverse logic)\n",
    "#Print the reversed string\n",
    "\n",
    "text = input(\"Enter a string: \")\n",
    "\n",
    "reversed_text = text[::-1]\n",
    "\n",
    "print(f\"The reversed string is: {reversed_text}\")"
   ]
  },
  {
   "cell_type": "markdown",
   "metadata": {},
   "source": [
    "### Bonus Exercise 7: Print Multiplication Table of a Number\n",
    "\n",
    "Write pseudocode to print the multiplication table of a given number up to 10."
   ]
  },
  {
   "cell_type": "markdown",
   "metadata": {},
   "source": [
    "<!-- Add your pseudocode here -->"
   ]
  },
  {
   "cell_type": "code",
   "execution_count": 18,
   "metadata": {},
   "outputs": [
    {
     "name": "stdout",
     "output_type": "stream",
     "text": [
      "8 * 1 = 8\n",
      "8 * 2 = 16\n",
      "8 * 3 = 24\n",
      "8 * 4 = 32\n",
      "8 * 5 = 40\n",
      "8 * 6 = 48\n",
      "8 * 7 = 56\n",
      "8 * 8 = 64\n",
      "8 * 9 = 72\n",
      "8 * 10 = 80\n"
     ]
    }
   ],
   "source": [
    "# Read the number (num)\n",
    "# For each number i from 1 to 10:\n",
    "# Multiply num by i and print the result in the format num * i = result\n",
    "# print result\n",
    "\n",
    "num = int(input(\"Enter a number: \"))\n",
    "\n",
    "for i in  range(1,11):\n",
    "    result = num * i\n",
    "    print(f\"{num} * {i} = {result}\")"
   ]
  },
  {
   "cell_type": "markdown",
   "metadata": {},
   "source": [
    "### Bonus Exercise 8: Count Words in a String\n",
    "\n",
    "Write pseudocode that counts the words in a given string and prints the result."
   ]
  },
  {
   "cell_type": "markdown",
   "metadata": {},
   "source": [
    "<!-- Add your pseudocode here -->"
   ]
  },
  {
   "cell_type": "code",
   "execution_count": 22,
   "metadata": {},
   "outputs": [
    {
     "name": "stdout",
     "output_type": "stream",
     "text": [
      "The number of words in the string is: 4\n"
     ]
    }
   ],
   "source": [
    "# Read the input string (text)\n",
    "# Split the string text into words\n",
    "# Count the number of words in the resulting list\n",
    "# Print the word count\n",
    "\n",
    "text = str(input(\"writte a word:\"))\n",
    "\n",
    "words = text.split()\n",
    "\n",
    "word_count = len(words)\n",
    "\n",
    "print(f\"The number of words in the string is: {word_count}\")\n",
    "\n"
   ]
  },
  {
   "cell_type": "markdown",
   "metadata": {},
   "source": [
    "### Bonus Exercise 9: Find Factorial of a Number\n",
    "\n",
    "Write pseudocode that calculates the factorial of a given positive integer."
   ]
  },
  {
   "cell_type": "markdown",
   "metadata": {},
   "source": [
    "<!-- Add your pseudocode here -->"
   ]
  },
  {
   "cell_type": "code",
   "execution_count": 23,
   "metadata": {},
   "outputs": [
    {
     "name": "stdout",
     "output_type": "stream",
     "text": [
      "The factorial of 45 is: 119622220865480194561963161495657715064383733760000000000\n"
     ]
    }
   ],
   "source": [
    "#Read the input number (let's call it n)\n",
    "#Initialize a variable factorial to 1\n",
    "#For each number i from 1 to n:\n",
    "#Multiply factorial by i\n",
    "#Print the value of factorial\n",
    "\n",
    "n = int(input(\"Enter a positive integer: \"))\n",
    "\n",
    "factorial = 1\n",
    "\n",
    "for i in range(1, n + 1):\n",
    "    factorial *= i\n",
    "\n",
    "print(f\"The factorial of {n} is: {factorial}\")"
   ]
  },
  {
   "cell_type": "markdown",
   "metadata": {},
   "source": [
    "### Bonus Exercise 10: FizzBuzz Problem\n",
    "\n",
    "Write pseudocode for the FizzBuzz problem where you print numbers from 1 to N but replace multiples of three with \"Fizz\" and multiples of five with \"Buzz\"."
   ]
  },
  {
   "cell_type": "markdown",
   "metadata": {},
   "source": [
    "<!-- Add your pseudocode here -->"
   ]
  },
  {
   "cell_type": "code",
   "execution_count": 24,
   "metadata": {},
   "outputs": [
    {
     "name": "stdout",
     "output_type": "stream",
     "text": [
      "1\n",
      "2\n",
      "Fizz\n",
      "4\n",
      "Buzz\n",
      "Fizz\n",
      "7\n",
      "8\n",
      "Fizz\n",
      "Buzz\n",
      "11\n",
      "Fizz\n",
      "13\n",
      "14\n",
      "FizzBuzz\n",
      "16\n",
      "17\n",
      "Fizz\n",
      "19\n",
      "Buzz\n",
      "Fizz\n",
      "22\n",
      "23\n",
      "Fizz\n",
      "Buzz\n",
      "26\n",
      "Fizz\n",
      "28\n",
      "29\n",
      "FizzBuzz\n",
      "31\n",
      "32\n",
      "Fizz\n",
      "34\n",
      "Buzz\n",
      "Fizz\n",
      "37\n",
      "38\n",
      "Fizz\n",
      "Buzz\n",
      "41\n",
      "Fizz\n",
      "43\n",
      "44\n",
      "FizzBuzz\n"
     ]
    }
   ],
   "source": [
    "#Read the input number N\n",
    "#For each number i from 1 to N:\n",
    "   #If i is divisible by 3 and 5, print \"FizzBuzz\"\n",
    "   #Else if i is divisible by 3, print \"Fizz\"\n",
    "   #Else if i is divisible by 5, print \"Buzz\"\n",
    "#Else, print the number i\n",
    "\n",
    "N = int(input(\"Enter a number: \"))\n",
    "\n",
    "for i in range(1, N + 1):\n",
    "    if i % 3 == 0 and i % 5 == 0:\n",
    "       \n",
    "        print(\"FizzBuzz\")\n",
    "    elif i % 3 == 0:\n",
    "       \n",
    "        print(\"Fizz\")\n",
    "    elif i % 5 == 0:\n",
    "      \n",
    "        print(\"Buzz\")\n",
    "    else:\n",
    "        \n",
    "        print(i)"
   ]
  }
 ],
 "metadata": {
  "kernelspec": {
   "display_name": "Python 3",
   "language": "python",
   "name": "python3"
  },
  "language_info": {
   "codemirror_mode": {
    "name": "ipython",
    "version": 3
   },
   "file_extension": ".py",
   "mimetype": "text/x-python",
   "name": "python",
   "nbconvert_exporter": "python",
   "pygments_lexer": "ipython3",
   "version": "3.13.1"
  }
 },
 "nbformat": 4,
 "nbformat_minor": 2
}
